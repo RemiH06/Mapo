{
 "cells": [
  {
   "cell_type": "code",
   "execution_count": null,
   "id": "8d333e24",
   "metadata": {},
   "outputs": [],
   "source": [
    "# Imports\n",
    "import xml.etree.ElementTree as ET # Librería por default de Python para trabajar con XMLs, tmb es aplicable a KML\n",
    "import pandas as pd # Para tabular la info y convertirla en CSV"
   ]
  },
  {
   "cell_type": "code",
   "execution_count": null,
   "id": "f3e0fd4c",
   "metadata": {},
   "outputs": [
    {
     "data": {
      "text/plain": [
       "<Element '{http://www.opengis.net/kml/2.2}kml' at 0x000001E43C4A1DF0>"
      ]
     },
     "execution_count": 6,
     "metadata": {},
     "output_type": "execute_result"
    }
   ],
   "source": [
    "# Abre el KML y obtiene su 'root' de donde se va a sacar información\n",
    "archivo = ET.parse('CodPostal\\CP_06Col_v11.kml')\n",
    "root = archivo.getroot()\n",
    "root"
   ]
  },
  {
   "cell_type": "code",
   "execution_count": 44,
   "id": "d7a2d521",
   "metadata": {},
   "outputs": [],
   "source": [
    "# Namespace, necesario para poder localizar la info en los KML\n",
    "ns = {'kml': 'http://www.opengis.net/kml/2.2'}"
   ]
  },
  {
   "cell_type": "code",
   "execution_count": 55,
   "id": "e646a3c5",
   "metadata": {},
   "outputs": [],
   "source": [
    "# Diccionario de estados, para poder formar el DataFrame completo\n",
    "estados = {\n",
    "    'Ags': 'Aguascalientes',\n",
    "    'Bc': 'Baja California',\n",
    "    'Bcs': 'Baja California Sur',\n",
    "    'Camp': 'Campeche',\n",
    "    'Coah': 'Coahuila',\n",
    "    'Col': 'Colima',\n",
    "    'Chis': 'Chiapas?',\n",
    "    'Chih': 'Chihuahua',\n",
    "    'Cdmx': 'Ciudad de México',\n",
    "    'Dgo': 'Durango',\n",
    "    'Gto': 'Guanajuato',\n",
    "    'Gro': 'Guerrero',\n",
    "    'Hgo': 'Hidalgo',\n",
    "    'Jal': 'Jalisco',\n",
    "    'Mex': 'Estado de México',\n",
    "    'Mich': 'Michoacán',\n",
    "    'Mor': 'Morelos',\n",
    "    'Nay': 'Nayarit',\n",
    "    'NL': 'Nuevo León',\n",
    "    'Oax': 'Oaxaca',\n",
    "    'Pue': 'Puebla',\n",
    "    'Qro': 'Querétaro',\n",
    "    'Qroo': 'Quintana Roo',\n",
    "    'SLP': 'San Luis Potosí',\n",
    "    'Sin': 'Sinaloa',\n",
    "    'Son': 'Sonora',\n",
    "    'Tab': 'Tabasco',\n",
    "    'Tmps': 'Tamaulipas',\n",
    "    'Tlax': 'Tlaxcala',\n",
    "    'Ver': 'Veracruz',\n",
    "    'Yuc': 'Yucatán',\n",
    "    'Zac': 'Zacatecas'\n",
    "}"
   ]
  },
  {
   "cell_type": "code",
   "execution_count": 71,
   "id": "07095cd2",
   "metadata": {},
   "outputs": [
    {
     "name": "stdout",
     "output_type": "stream",
     "text": [
      "Aguascalientes\n",
      "Baja California\n",
      "Baja California Sur\n",
      "Campeche\n",
      "Coahuila\n",
      "Colima\n",
      "Chiapas?\n",
      "Chihuahua\n",
      "Ciudad de México\n",
      "Durango\n",
      "Guanajuato\n",
      "Guerrero\n",
      "Hidalgo\n",
      "Jalisco\n",
      "Estado de México\n",
      "Michoacán\n",
      "Morelos\n",
      "Nayarit\n",
      "Nuevo León\n",
      "Oaxaca\n",
      "Puebla\n",
      "Querétaro\n",
      "Quintana Roo\n",
      "San Luis Potosí\n",
      "Sinaloa\n",
      "Sonora\n",
      "Tabasco\n",
      "Tamaulipas\n",
      "Tlaxcala\n",
      "Veracruz\n",
      "Yucatán\n",
      "Zacatecas\n"
     ]
    }
   ],
   "source": [
    "for i in estados:\n",
    "    print(estados[i])"
   ]
  },
  {
   "cell_type": "code",
   "execution_count": 69,
   "id": "f8f3c287",
   "metadata": {},
   "outputs": [
    {
     "name": "stdout",
     "output_type": "stream",
     "text": [
      "CodPostal\\CP_01Ags_v11.kml\n",
      "CodPostal\\CP_02Bc_v11.kml\n",
      "CodPostal\\CP_03Bcs_v11.kml\n",
      "CodPostal\\CP_04Camp_v11.kml\n",
      "CodPostal\\CP_05Coah_v11.kml\n",
      "CodPostal\\CP_06Col_v11.kml\n",
      "CodPostal\\CP_07Chis_v11.kml\n",
      "CodPostal\\CP_08Chih_v11.kml\n",
      "CodPostal\\CP_09Cdmx_v11.kml\n",
      "CodPostal\\CP_010Dgo_v11.kml\n",
      "CodPostal\\CP_11Gto_v11.kml\n",
      "CodPostal\\CP_12Gro_v11.kml\n",
      "CodPostal\\CP_13Hgo_v11.kml\n",
      "CodPostal\\CP_14Jal_v11.kml\n",
      "CodPostal\\CP_15Mex_v11.kml\n",
      "CodPostal\\CP_16Mich_v11.kml\n",
      "CodPostal\\CP_17Mor_v11.kml\n",
      "CodPostal\\CP_18Nay_v11.kml\n",
      "CodPostal\\CP_19NL_v11.kml\n",
      "CodPostal\\CP_20Oax_v11.kml\n",
      "CodPostal\\CP_21Pue_v11.kml\n",
      "CodPostal\\CP_22Qro_v11.kml\n",
      "CodPostal\\CP_23Qroo_v11.kml\n",
      "CodPostal\\CP_24SLP_v11.kml\n",
      "CodPostal\\CP_25Sin_v11.kml\n",
      "CodPostal\\CP_26Son_v11.kml\n",
      "CodPostal\\CP_27Tab_v11.kml\n",
      "CodPostal\\CP_28Tmps_v11.kml\n",
      "CodPostal\\CP_29Tlax_v11.kml\n",
      "CodPostal\\CP_30Ver_v11.kml\n",
      "CodPostal\\CP_31Yuc_v11.kml\n",
      "CodPostal\\CP_32Zac_v11.kml\n"
     ]
    }
   ],
   "source": [
    "for i in estados:\n",
    "    if list(estados.keys()).index(i) < 10:\n",
    "        print(f'CodPostal\\CP_{\"0\"+str(list(estados.keys()).index(i) + 1)}{i}_v11.kml')\n",
    "    else:\n",
    "        print(f'CodPostal\\CP_{list(estados.keys()).index(i) + 1}{i}_v11.kml')"
   ]
  },
  {
   "cell_type": "code",
   "execution_count": 77,
   "id": "9c005a10",
   "metadata": {},
   "outputs": [
    {
     "name": "stdout",
     "output_type": "stream",
     "text": [
      "                                             coordenadas          estado\n",
      "cp                                                                      \n",
      "20049  -102.321704054328,21.8903080201516 -102.321704...  Aguascalientes\n",
      "20358  -102.227883784367,21.9731647682261 -102.229289...  Aguascalientes\n",
      "20350  -102.227883784367,21.9731647682261 -102.230048...  Aguascalientes\n",
      "20158  -102.27993009934,21.9105736251212 -102.2797261...  Aguascalientes\n",
      "20123  -102.281766051634,21.9504236376935 -102.282271...  Aguascalientes\n"
     ]
    }
   ],
   "source": [
    "df = pd.DataFrame(columns=['cp','coordenadas','estado'])\n",
    "\n",
    "for estado in estados:\n",
    "    if list(estados.keys()).index(estado) < 9:\n",
    "        kml_temp = ET.parse(f'CodPostal\\CP_{\"0\"+str(list(estados.keys()).index(estado) + 1)}{estado}_v11.kml')\n",
    "    else:\n",
    "        kml_temp = ET.parse(f'CodPostal\\CP_{list(estados.keys()).index(estado) + 1}{estado}_v11.kml')\n",
    "    \n",
    "    root_temp = kml_temp.getroot()\n",
    "\n",
    "    placements_temp = root_temp.findall('.//kml:Placemark',ns)\n",
    "\n",
    "    data_temp = []\n",
    "\n",
    "    for place in placements_temp:\n",
    "        cp_temp = place.find('.//kml:SimpleData',ns)\n",
    "        coords_temp = place.find('.//kml:coordinates',ns)\n",
    "\n",
    "        data_temp.append({\n",
    "            'cp': cp_temp.text.strip(),\n",
    "            'coordenadas': coords_temp.text.strip(),\n",
    "            'estado': estados[estado]\n",
    "        })\n",
    "    \n",
    "    df_temp = pd.DataFrame(data_temp)\n",
    "\n",
    "    df = pd.concat([df,df_temp])\n",
    "\n",
    "df = df.set_index('cp')\n",
    "print(df.head())"
   ]
  },
  {
   "cell_type": "code",
   "execution_count": 78,
   "id": "870e8757",
   "metadata": {},
   "outputs": [],
   "source": [
    "df.to_csv('DataRefinada\\KMLTabularV1.csv')"
   ]
  }
 ],
 "metadata": {
  "kernelspec": {
   "display_name": "mapo",
   "language": "python",
   "name": "python3"
  },
  "language_info": {
   "codemirror_mode": {
    "name": "ipython",
    "version": 3
   },
   "file_extension": ".py",
   "mimetype": "text/x-python",
   "name": "python",
   "nbconvert_exporter": "python",
   "pygments_lexer": "ipython3",
   "version": "3.11.13"
  }
 },
 "nbformat": 4,
 "nbformat_minor": 5
}
